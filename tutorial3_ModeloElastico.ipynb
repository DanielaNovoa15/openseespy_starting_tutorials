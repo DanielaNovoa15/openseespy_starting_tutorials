{
 "cells": [
  {
   "cell_type": "markdown",
   "id": "b325feb3",
   "metadata": {},
   "source": [
    "# Primer Script de OpenSeesPy: Modelo elástico\n",
    "#### Autor: Orlando Arroyo\n",
    "#### email: odarroyo@uc.cl"
   ]
  },
  {
   "cell_type": "markdown",
   "id": "31b39ece",
   "metadata": {},
   "source": [
    "## Carga de librerías necesarias"
   ]
  },
  {
   "cell_type": "code",
   "execution_count": 1,
   "id": "c1ae5ce6",
   "metadata": {},
   "outputs": [],
   "source": [
    "from openseespy.opensees import *\n",
    "import opsvis as opsv # hay que llamar al opsvis para poder plotear el modelo que se va generando\n",
    "import matplotlib.pyplot as plt # esta es una librería estándar para plotear otras cosasy poder crear figuras.\n",
    "import opseestools.analisis as an # librería de análisis con distintas \n",
    "import numpy as np # librería de Numpy para operaciones matemáticas"
   ]
  },
  {
   "cell_type": "markdown",
   "id": "f3b4812b",
   "metadata": {},
   "source": [
    "## Creación del modelo"
   ]
  },
  {
   "cell_type": "code",
   "execution_count": 2,
   "id": "c993e963",
   "metadata": {},
   "outputs": [],
   "source": [
    "wipe() # es una buena práctica comenzar con un wipe \n",
    "model('basic','-ndm',2,'-ndf',3) # creación del modelo de dos dimensiones con tres grados de libertad por nodo"
   ]
  },
  {
   "cell_type": "markdown",
   "id": "3f4c5194",
   "metadata": {},
   "source": [
    "## Definición de nodos y apoyos"
   ]
  },
  {
   "cell_type": "code",
   "execution_count": 3,
   "id": "ea932bbe",
   "metadata": {},
   "outputs": [
    {
     "data": {
      "text/plain": [
       "<AxesSubplot:>"
      ]
     },
     "execution_count": 3,
     "metadata": {},
     "output_type": "execute_result"
    },
    {
     "data": {
      "image/png": "[encoded data removed]",
      "text/plain": [
       "<Figure size 432x288 with 1 Axes>"
      ]
     },
     "metadata": {
      "needs_background": "light"
     },
     "output_type": "display_data"
    }
   ],
   "source": [
    "x1 = 6.0\n",
    "x2 = 10.0\n",
    "y1 = 4.0\n",
    "y2 = 7.0\n",
    "\n",
    "node(1,0.0,0.0) # Definición del nodo 1 con coordenadas X y Y de 0.0 y 0.0\n",
    "node(2,x1,0.0)\n",
    "node(3,x2,0.0)\n",
    "node(4,0.0,y1)\n",
    "node(5,x1,y1)\n",
    "node(6,x2,y1)\n",
    "node(7,0.0,y2)\n",
    "node(8,x1,y2)\n",
    "node(9,x2,y2)\n",
    "\n",
    "# apoyos\n",
    "empotrado = [1,1,1] # restringe los grados de libertad X,Y,Z\n",
    "grado2 = [1,1,0] # restringe los grados de libertad X,Y, dejando libre el Z\n",
    "\n",
    "fix(1,*empotrado)\n",
    "fix(2,*empotrado)\n",
    "fix(3,*grado2)\n",
    "\n",
    "# Visualización de los nodos\n",
    "opsv.plot_model()"
   ]
  },
  {
   "cell_type": "markdown",
   "id": "2613e054",
   "metadata": {},
   "source": [
    "## Definición de diafragmas y masas"
   ]
  },
  {
   "cell_type": "code",
   "execution_count": 4,
   "id": "6adc6718",
   "metadata": {},
   "outputs": [],
   "source": [
    "# diafragmas\n",
    "equalDOF(4,5,1) # hace que el desplazamiento del nodo 5 en X sea igual que el del nodo 4\n",
    "equalDOF(4,6,1)\n",
    "equalDOF(7,8,1) \n",
    "equalDOF(7,9,1)\n",
    "\n",
    "# masas\n",
    "mass(4,1,1,0) # asignación de masas en X y Y al nodo 4\n",
    "mass(5,1,1,0)\n",
    "mass(6,1,1,0)\n",
    "mass(7,1,1,0)\n",
    "mass(8,1,1,0)\n",
    "mass(9,1,1,0)"
   ]
  },
  {
   "cell_type": "markdown",
   "id": "6f10606e",
   "metadata": {},
   "source": [
    "## Definición de materiales"
   ]
  },
  {
   "cell_type": "code",
   "execution_count": 5,
   "id": "ba671fb3",
   "metadata": {},
   "outputs": [],
   "source": [
    "E = 24000000 # 24GPa pasados a KPa para hacerlo consistente con las unidades del modelo\n",
    "uniaxialMaterial('Elastic',1,E) # El material 1 será elástico con módulo de elasticidad E"
   ]
  },
  {
   "cell_type": "markdown",
   "id": "94aede7f",
   "metadata": {},
   "source": [
    "## Definicion de elementos"
   ]
  },
  {
   "cell_type": "code",
   "execution_count": 6,
   "id": "20d63594",
   "metadata": {},
   "outputs": [
    {
     "data": {
      "text/plain": [
       "<AxesSubplot:>"
      ]
     },
     "execution_count": 6,
     "metadata": {},
     "output_type": "execute_result"
    },
    {
     "data": {
      "image/png": "[encoded data removed]",
      "text/plain": [
       "<Figure size 432x288 with 1 Axes>"
      ]
     },
     "metadata": {
      "needs_background": "light"
     },
     "output_type": "display_data"
    }
   ],
   "source": [
    "# Transformaciones del los elementos\n",
    "lineal = 1\n",
    "geomTransf('Linear',lineal) # transformación lineal\n",
    "\n",
    "pdelta = 2\n",
    "geomTransf('PDelta',pdelta) # transformación lineal\n",
    "\n",
    "# Dimensiones y propiedades de los elementos lineales\n",
    "b = 0.3\n",
    "h = 0.3\n",
    "A = b*h\n",
    "I = b*h**3/12\n",
    "\n",
    "# Columnas\n",
    "element('elasticBeamColumn',1,1,4,A,E,I,lineal) # El elemento 1 irá del nodo 1 al 4 y tendrá propiedades A,E,I, y una transformación lineal\n",
    "element('elasticBeamColumn',2,4,7,A,E,I,lineal)\n",
    "\n",
    "element('elasticBeamColumn',3,2,5,A,E,I,lineal)\n",
    "element('elasticBeamColumn',4,5,8,A,E,I,lineal)\n",
    "\n",
    "element('elasticBeamColumn',5,3,6,A,E,I,lineal)\n",
    "element('elasticBeamColumn',6,6,9,A,E,I,lineal)\n",
    "\n",
    "# Vigas\n",
    "element('elasticBeamColumn',7,4,5,A,E,I,lineal)\n",
    "element('elasticBeamColumn',8,5,6,A,E,I,lineal)\n",
    "\n",
    "element('elasticBeamColumn',9,7,8,A,E,I,lineal)\n",
    "element('elasticBeamColumn',10,8,9,A,E,I,lineal)\n",
    "\n",
    "# para ver el modelo\n",
    "opsv.plot_model()"
   ]
  },
  {
   "cell_type": "markdown",
   "id": "e3a1c06c",
   "metadata": {},
   "source": [
    "## Cargas del modelo"
   ]
  },
  {
   "cell_type": "code",
   "execution_count": 7,
   "id": "cb0fbb32",
   "metadata": {},
   "outputs": [],
   "source": [
    "timeSeries('Linear', 1)\n",
    "pattern('Plain',1,1)\n",
    "\n",
    "# El comando load asigna una carga puntual a un nodo en los grados de libertad X, Y y Z\n",
    "# Hay dos maneras de asignarlas\n",
    "\n",
    "# Manera 1:\n",
    "load(4,5.0,0.0,0.0)\n",
    "\n",
    "# Manera 2:\n",
    "carga7 = [10.0, 0.0, 0.0]\n",
    "load(7,*carga7)\n",
    "\n",
    "# El comando eleload asigna una carga al elemento:\n",
    "vigas = [7,8,9,10] # tags de los elementos vigas\n",
    "wviga = 20 # carga disitriibuida sobre la viga\n",
    "eleLoad('-ele',*vigas,'-type','beamUniform',-wviga) # aplicación de la carga sobre la viga"
   ]
  },
  {
   "cell_type": "markdown",
   "id": "10060862",
   "metadata": {},
   "source": [
    "## Cálculo de los valores propios y la forma modal"
   ]
  },
  {
   "cell_type": "code",
   "execution_count": 8,
   "id": "241bf0f9",
   "metadata": {},
   "outputs": [
    {
     "name": "stdout",
     "output_type": "stream",
     "text": [
      "El periodo fundamental es:  0.2539171248294939\n"
     ]
    },
    {
     "data": {
      "image/png": "[encoded data removed]",
      "text/plain": [
       "<Figure size 432x288 with 1 Axes>"
      ]
     },
     "metadata": {
      "needs_background": "light"
     },
     "output_type": "display_data"
    }
   ],
   "source": [
    "eig= eigen(1) # el comando eigen calcula las frecuencias de la cantidad de modos indicados. En este caso 1\n",
    "T1 = 2*3.1416/np.sqrt(eig[0]) # Se obtiene el periodo correspondiente\n",
    "print('El periodo fundamental es: ',T1) # Se imprime el resultado\n",
    "\n",
    "# Visualización de la primera forma modal\n",
    "opsv.plot_mode_shape(1)"
   ]
  },
  {
   "cell_type": "markdown",
   "id": "64b5e933",
   "metadata": {},
   "source": [
    "## Análisis del modelo y representación de la deformada"
   ]
  },
  {
   "cell_type": "code",
   "execution_count": 9,
   "id": "bf0ae18d",
   "metadata": {},
   "outputs": [
    {
     "name": "stdout",
     "output_type": "stream",
     "text": [
      "Análisis de gravedad completado\n"
     ]
    },
    {
     "data": {
      "text/plain": [
       "200.23963199378272"
      ]
     },
     "execution_count": 9,
     "metadata": {},
     "output_type": "execute_result"
    },
    {
     "data": {
      "text/plain": [
       "<Figure size 432x288 with 0 Axes>"
      ]
     },
     "metadata": {},
     "output_type": "display_data"
    },
    {
     "data": {
      "image/png": "[encoded data removed]",
      "text/plain": [
       "<Figure size 432x288 with 1 Axes>"
      ]
     },
     "metadata": {
      "needs_background": "light"
     },
     "output_type": "display_data"
    },
    {
     "data": {
      "text/plain": [
       "<Figure size 432x288 with 0 Axes>"
      ]
     },
     "metadata": {},
     "output_type": "display_data"
    },
    {
     "data": {
      "image/png": "[encoded data removed]",
      "text/plain": [
       "<Figure size 432x288 with 1 Axes>"
      ]
     },
     "metadata": {
      "needs_background": "light"
     },
     "output_type": "display_data"
    }
   ],
   "source": [
    "# Se usa la librería de análisis que se llamó\n",
    "\n",
    "an.gravedad()\n",
    "\n",
    "# Representación del modelo con cargas\n",
    "plt.figure()\n",
    "opsv.plot_loads_2d()\n",
    "\n",
    "# Representación de la deformada\n",
    "plt.figure()\n",
    "opsv.plot_defo()"
   ]
  },
  {
   "cell_type": "markdown",
   "id": "fc010ae4",
   "metadata": {},
   "source": [
    "## Obtención de respuestas de nodos y elementos"
   ]
  },
  {
   "cell_type": "markdown",
   "id": "f944937d",
   "metadata": {},
   "source": [
    "##### Respuesta de los nodos"
   ]
  },
  {
   "cell_type": "code",
   "execution_count": 10,
   "id": "8a44b2ef",
   "metadata": {},
   "outputs": [
    {
     "name": "stdout",
     "output_type": "stream",
     "text": [
      "El desplazamiento del nodo 9 en X es  0.004994016369501963\n"
     ]
    }
   ],
   "source": [
    "# desplazamiento del nodo 9 en X:\n",
    "ux9 = nodeDisp(9,1)\n",
    "print('El desplazamiento del nodo 9 en X es ', ux9)"
   ]
  },
  {
   "cell_type": "markdown",
   "id": "dac7aaac",
   "metadata": {},
   "source": [
    "##### Respuesta de los elementos"
   ]
  },
  {
   "cell_type": "code",
   "execution_count": 11,
   "id": "103b8310",
   "metadata": {},
   "outputs": [
    {
     "name": "stdout",
     "output_type": "stream",
     "text": [
      "Las fuerzas en la columna 1 son  [0.0, -1.2607624711603571, -4.072139592378016, 0.0, 1.2607624711603571, -3.4924352345841267]\n"
     ]
    }
   ],
   "source": [
    "# fuerzas de la columna 1\n",
    "fcol1 = eleResponse(9,'globalForce')\n",
    "print('Las fuerzas en la columna 1 son ', fcol1)\n",
    "\n",
    "# Las fuerzas siempre corresponderán a los grados de libertad. En este caso son los tres del nodo inicial y los tres del nodo final"
   ]
  }
 ],
 "metadata": {
  "kernelspec": {
   "display_name": "Python 3 (ipykernel)",
   "language": "python",
   "name": "python3"
  },
  "language_info": {
   "codemirror_mode": {
    "name": "ipython",
    "version": 3
   },
   "file_extension": ".py",
   "mimetype": "text/x-python",
   "name": "python",
   "nbconvert_exporter": "python",
   "pygments_lexer": "ipython3",
   "version": "3.9.12"
  }
 },
 "nbformat": 4,
 "nbformat_minor": 5
}
